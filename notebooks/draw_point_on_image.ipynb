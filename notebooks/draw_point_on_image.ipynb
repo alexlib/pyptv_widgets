{
 "cells": [
  {
   "cell_type": "code",
   "execution_count": 8,
   "metadata": {},
   "outputs": [],
   "source": [
    "import numpy as np\n",
    "import matplotlib.pyplot as plt\n",
    "%matplotlib ipympl"
   ]
  },
  {
   "cell_type": "code",
   "execution_count": 85,
   "metadata": {},
   "outputs": [],
   "source": [
    "class LineBuilder:\n",
    "    def __init__(self, line):\n",
    "        self.line = line\n",
    "        self.ann = []\n",
    "        self.xs = list(line.get_xdata())\n",
    "        self.ys = list(line.get_ydata())\n",
    "        self.cid = line.figure.canvas.mpl_connect('button_press_event', self)\n",
    "        self.counter = 0\n",
    "\n",
    "    def __call__(self, event):\n",
    "        print('click', event)\n",
    "        if event.inaxes!=self.line.axes: return\n",
    "        \n",
    "        if event.button is MouseButton.LEFT:\n",
    "            self.counter += 1\n",
    "            self.xs.append(event.xdata)\n",
    "            self.ys.append(event.ydata)\n",
    "            self.line.set_data(self.xs, self.ys)\n",
    "            self.ann.append(self.line.figure.axes[0].annotate(str(self.counter),\n",
    "                  xy=(event.xdata, event.ydata), xycoords='data',\n",
    "                  xytext=(5, 0), textcoords='offset points',\n",
    "                  size=8, va=\"center\",\n",
    "                  bbox=dict(boxstyle=\"round\", fc=(1.0, 0.7, 0.7), ec=\"none\"),\n",
    "                  arrowprops=dict(arrowstyle=\"wedge,tail_width=1.\",\n",
    "                                  fc=(1.0, 0.7, 0.7), ec=\"none\",\n",
    "                                  relpos=(0.2, 0.5))))\n",
    "            self.line.figure.canvas.draw()\n",
    "        elif event.button is MouseButton.RIGHT:\n",
    "            self.counter -= 1\n",
    "            self.xs.pop()\n",
    "            self.ys.pop()\n",
    "            self.ann[-1].remove()\n",
    "            self.ann.pop()\n",
    "            self.line.set_data(self.xs, self.ys)\n",
    "            # self.line.figure.text(self.xs[-1],self.ys[-1],str(self.counter),size=15)\n",
    "            self.line.figure.canvas.draw()"
   ]
  },
  {
   "cell_type": "code",
   "execution_count": 86,
   "metadata": {},
   "outputs": [
    {
     "name": "stderr",
     "output_type": "stream",
     "text": [
      "/Users/alex/miniconda3/envs/itk/lib/python3.7/site-packages/ipykernel_launcher.py:6: RuntimeWarning: More than 20 figures have been opened. Figures created through the pyplot interface (`matplotlib.pyplot.figure`) are retained until explicitly closed and may consume too much memory. (To control this warning, see the rcParam `figure.max_open_warning`).\n",
      "  \n"
     ]
    },
    {
     "data": {
      "application/vnd.jupyter.widget-view+json": {
       "model_id": "4f5cf23f60e04da9b948c963a8fe6df9",
       "version_major": 2,
       "version_minor": 0
      },
      "text/plain": [
       "FigureCanvasNbAgg()"
      ]
     },
     "metadata": {},
     "output_type": "display_data"
    }
   ],
   "source": [
    "from skimage import data\n",
    "\n",
    "caller = getattr(data, 'hubble_deep_field')\n",
    "image = caller()\n",
    "\n",
    "fig,ax = plt.subplots()\n",
    "if image.ndim == 2:\n",
    "    ax.imshow(image, cmap=plt.cm.gray)\n",
    "else:\n",
    "    ax.imshow(image)\n",
    "    \n",
    "line, = ax.plot([0], [0],'o')  # empty line\n",
    "linebuilder = LineBuilder(line)"
   ]
  },
  {
   "cell_type": "code",
   "execution_count": 72,
   "metadata": {},
   "outputs": [
    {
     "data": {
      "text/plain": [
       "array([[0., 0.]])"
      ]
     },
     "execution_count": 72,
     "metadata": {},
     "output_type": "execute_result"
    }
   ],
   "source": [
    "line.get_xydata()"
   ]
  },
  {
   "cell_type": "code",
   "execution_count": 69,
   "metadata": {},
   "outputs": [
    {
     "data": {
      "text/plain": [
       "Text(200, 200, 'test')"
      ]
     },
     "execution_count": 69,
     "metadata": {},
     "output_type": "execute_result"
    }
   ],
   "source": [
    "line.figure.axes[0].annotate('test',xy=(200,200))"
   ]
  },
  {
   "cell_type": "code",
   "execution_count": 78,
   "metadata": {},
   "outputs": [
    {
     "name": "stderr",
     "output_type": "stream",
     "text": [
      "/Users/alex/miniconda3/envs/itk/lib/python3.7/site-packages/ipykernel_launcher.py:1: RuntimeWarning: More than 20 figures have been opened. Figures created through the pyplot interface (`matplotlib.pyplot.figure`) are retained until explicitly closed and may consume too much memory. (To control this warning, see the rcParam `figure.max_open_warning`).\n",
      "  \"\"\"Entry point for launching an IPython kernel.\n"
     ]
    },
    {
     "data": {
      "application/vnd.jupyter.widget-view+json": {
       "model_id": "fae2fb42d5734fb9a1f0b5ece8ca8868",
       "version_major": 2,
       "version_minor": 0
      },
      "text/plain": [
       "FigureCanvasNbAgg()"
      ]
     },
     "metadata": {},
     "output_type": "display_data"
    },
    {
     "data": {
      "text/plain": [
       "Text(55, 0, 'bubble')"
      ]
     },
     "execution_count": 78,
     "metadata": {},
     "output_type": "execute_result"
    }
   ],
   "source": [
    "fig,ax = plt.subplots()\n",
    "if image.ndim == 2:\n",
    "    ax.imshow(image, cmap=plt.cm.gray)\n",
    "else:\n",
    "    ax.imshow(image)\n",
    "    \n",
    "line, = ax.plot([0], [0],'o')  # empty line\n",
    "line.figure.axes[0].annotate('bubble',\n",
    "                  xy=(200, 200), xycoords='data',\n",
    "                  xytext=(55, 0), textcoords='offset points',\n",
    "                  size=8, va=\"center\",\n",
    "                  bbox=dict(boxstyle=\"round\", fc=(1.0, 0.7, 0.7), ec=\"none\"),\n",
    "                  arrowprops=dict(arrowstyle=\"wedge,tail_width=1.\",\n",
    "                                  fc=(1.0, 0.7, 0.7), ec=\"none\",\n",
    "                                  relpos=(0.2, 0.5)))"
   ]
  },
  {
   "cell_type": "code",
   "execution_count": null,
   "metadata": {},
   "outputs": [],
   "source": []
  }
 ],
 "metadata": {
  "kernelspec": {
   "display_name": "Python 3",
   "language": "python",
   "name": "python3"
  },
  "language_info": {
   "codemirror_mode": {
    "name": "ipython",
    "version": 3
   },
   "file_extension": ".py",
   "mimetype": "text/x-python",
   "name": "python",
   "nbconvert_exporter": "python",
   "pygments_lexer": "ipython3",
   "version": "3.7.3"
  }
 },
 "nbformat": 4,
 "nbformat_minor": 2
}
